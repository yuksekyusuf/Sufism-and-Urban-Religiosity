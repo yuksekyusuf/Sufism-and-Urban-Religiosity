{
 "cells": [
  {
   "cell_type": "code",
   "execution_count": null,
   "metadata": {},
   "outputs": [],
   "source": [
    "all_cases = []\n",
    "\n",
    "\n",
    "def get_date(case):\n",
    "   do_something_to_the_case()\n",
    "\n",
    "\n",
    "\n",
    "for court_case in court_cases:\n",
    "   case = dict()\n",
    "   case['date'] = get_date(court_case)\n",
    "   case['text'] = get_text(court_case)\n",
    "   ...\n",
    "   all_cases.append(case)\n",
    "\n",
    "\n",
    "import pandas as pd\n",
    "frame = pd.DataFrame(all_cases)\n",
    "# Could also use .csv\n",
    "frame.to_csv(\"backup_of_parsed_data.csv\")\n",
    "frame.to_parquet(\"my_cases.parquet\")"
   ]
  },
  {
   "cell_type": "code",
   "execution_count": 14,
   "metadata": {},
   "outputs": [],
   "source": [
    "from pathlib import Path\n",
    "import bs4\n"
   ]
  },
  {
   "cell_type": "code",
   "execution_count": 33,
   "metadata": {},
   "outputs": [
    {
     "name": "stdout",
     "output_type": "stream",
     "text": [
      "/Users/yusufyuksek/Google Drive/Spring 2021/Working with Data/Final Project/urls/10000.html\n"
     ]
    },
    {
     "data": {
      "text/plain": [
       "<p class=\"bas8\"><b>Yani b. Todora’nın Meyhaneci İskender Dimitri b. Manol’dan iki yüz akçe alacağı olduğu</b><br/><br/>Yevmü’l-Cum‘a, fî 3<br/><br/>Vech-i tahrîr-i sicil oldur ki<br/><br/>Akındıburnu nâm karyeden Yani b. Todora, İskender Dimitri b. Manol nâm meyhâneci[yi] mahfil-i şer‘a ihzâr ve üzerine takrîr-i da‘vâ ve bundan akdem meyhânesinde yeniçeriler döğüp mezbûr Dimitri gaybet etdikde mezbûrun ma‘rifetiyle hasımlarını iki yüz akçeye müsâlaha ve ibrâ etmişdim hâliyâ meblağ-ı merkūm mezbûr zimmetinde taleb ederim deyicek gıbbe’s-[suâl] mezbûr Dimitri inkâr ile cevâb verdikde Yani b. Yorgi ve Atnas b. Pavli müdde‘î-i mezbûrun da‘vâsına mutâbık edâ-i şehâdet-i şer‘iyye etdiklerinde mezbûrânın şehâdetleri ba‘de’t-tezkiyye hayyiz-i kabûlde vâki‘ olup meblağ-ı mezkûr mezbûr Dimitri zimmetinden hükm olunup mâ vaka‘a bi’t-taleb kayd olundu.<br/><br/>Tahrîren fi’l-yevmi’s-sâlis min şehri Zilka‘de sene 967.<br/><br/>Şuhûd: Mehmed b. Mustafa el-muhzır havâle, Dode b. Diçko, Manol b. ( ) ve gayruhüm. </p>"
      ]
     },
     "execution_count": 33,
     "metadata": {},
     "output_type": "execute_result"
    }
   ],
   "source": [
    "\n",
    "number = 10000\n",
    "\n",
    "data_folder = Path(\"/Users/yusufyuksek/Google Drive/Spring 2021/Working with Data/Final Project/urls/\")\n",
    "file_to_open = data_folder / \"{n}.html\".format(n = number)\n",
    "print(file_to_open)\n",
    "\n",
    "f = open(file_to_open)\n",
    "soup = bs4.BeautifulSoup(f, \"lxml\")\n",
    "soup = soup.select(\".bas8\")\n",
    "\n",
    "title = soup[0].getText()\n",
    "body = soup[1]\n",
    "body."
   ]
  },
  {
   "cell_type": "code",
   "execution_count": null,
   "metadata": {},
   "outputs": [],
   "source": []
  }
 ],
 "metadata": {
  "kernelspec": {
   "display_name": "Python 3",
   "language": "python",
   "name": "python3"
  },
  "language_info": {
   "codemirror_mode": {
    "name": "ipython",
    "version": 3
   },
   "file_extension": ".py",
   "mimetype": "text/x-python",
   "name": "python",
   "nbconvert_exporter": "python",
   "pygments_lexer": "ipython3",
   "version": "3.8.5"
  },
  "widgets": {
   "application/vnd.jupyter.widget-state+json": {
    "state": {},
    "version_major": 2,
    "version_minor": 0
   }
  }
 },
 "nbformat": 4,
 "nbformat_minor": 4
}
