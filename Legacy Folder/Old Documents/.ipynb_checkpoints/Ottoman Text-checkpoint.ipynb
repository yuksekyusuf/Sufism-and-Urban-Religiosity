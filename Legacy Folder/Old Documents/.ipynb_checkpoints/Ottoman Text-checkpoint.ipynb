{
 "cells": [
  {
   "cell_type": "code",
   "execution_count": 14,
   "metadata": {},
   "outputs": [],
   "source": [
    "from pathlib import Path\n",
    "import pandas as pd\n",
    "import numpy as py"
   ]
  },
  {
   "cell_type": "code",
   "execution_count": null,
   "metadata": {},
   "outputs": [],
   "source": [
    "data = pd.read_csv('backup.csv')"
   ]
  },
  {
   "cell_type": "code",
   "execution_count": 29,
   "metadata": {},
   "outputs": [
    {
     "name": "stdout",
     "output_type": "stream",
     "text": [
      "['İftihârü’l-emâcid ve’l-ekârim câmi‘u’l-mehâmid ve’l-hükkâm el muhtassu bi-mezîdi inâyeti’l-meliki’n-nüvvâbım hâlâ hâssa bostancıbaşı olan ( ) -dâme mecdühû- tevkī‘-i refî‘-i hümâyûn vâsıl olıcak ma‘lûm ola ki Üsküdar’a muzâfe Kartal nâhiyesine tâbi‘ Helke [Hereke] ve Yalakâbâd ve Âsitâne’de Kalafatyeri nâm mahâllerden gerek kayıkçı ve gerek sâir eşhâs beş ve altışar müttefikan İstanbul’dan fâhişe avradlar alıp kayık ile Kınalıadası’nda ve Sivriada’da ve Büyükadalar’dan [Büyükada’da] ikişer üçer gece beytûtetden ve mel‘anetleri[n] icrâ eylediklerinden sonra re‘âyâ fukarâsının cebren ganem ve keçilerini zebh ve sâir me’külât ve meşrûbâtlarına dahi bir akçe vermeyüp müft [ü] meccânen ekl ü şürb eylediklerinden başka rencîde ve ta‘addîlerinin nihâyeti olmadığını Adalar Subaşısı Hasan -zîde kadruhû- sen ki bostancıbaşı-yı mûmâ-ileyhsin tarafından inhâ ve ol makūle eşkıyâ ber-vech-i meşrûh mel‘anetleri icrâsı’çün Adalar’a geldiklerinde ahz ve fâhişeleriyle ma‘an huzûr-ı Âsafi’ye ihzârları’çün subaşı-yı merkūmun ma‘iyyetine mübâşir ta‘yîn olunmak bâbında emr-i şerîfim sudûru istid‘â olunduğuna binâen vech-i meşrûh üzere amel olunmak fermânım olmağın imdi sen ki bostancıbaşı-yı mûmâ-ileyhsin tarafından subaşı-yı mûmâ-ileyhin ma‘iyyetine bir kâr-güzâr mübâşir ta‘yîn ve ol makūle eşkıyâ Adalar’a geldiklerinde bi-eyyi hâl ahz ve fâhişeleriyle ma‘an huzûr-ı Âsafi’ye ihzâra ziyâde takayyüd ve ihtimâm eyleyüp lâkin bu husûs celb-i mâl sevdâsıyla fukarâyı rencîde, zulm ü ta‘addîye ruhsat göstermekden gāyetü’l-gāye hazer ve mücânebet olunmak bâbında fermân-ı âlîşânım sâdır olmuşdur buyurdum ki vusûl buldukda amel kılıp mazmûn-ı itâ‘at-makrûnuyla âmil olup hilâfından tehâşî ve mücânebet eyleyesin şöyle bilesin alâmet-i şerîfe i‘timâd kılasın.', 'Fî <', '> selhi Cemâziyelevvel sene [1]182.']\n"
     ]
    }
   ],
   "source": [
    "texts = data['case_text']\n",
    "print(texts[123])"
   ]
  },
  {
   "cell_type": "code",
   "execution_count": 33,
   "metadata": {},
   "outputs": [
    {
     "data": {
      "text/plain": [
       "<zip at 0x7fe0a5fca200>"
      ]
     },
     "execution_count": 33,
     "metadata": {},
     "output_type": "execute_result"
    }
   ],
   "source": [
    "texts.iteritems()"
   ]
  },
  {
   "cell_type": "code",
   "execution_count": null,
   "metadata": {},
   "outputs": [],
   "source": []
  },
  {
   "cell_type": "code",
   "execution_count": null,
   "metadata": {},
   "outputs": [],
   "source": []
  }
 ],
 "metadata": {
  "kernelspec": {
   "display_name": "Python 3",
   "language": "python",
   "name": "python3"
  },
  "language_info": {
   "codemirror_mode": {
    "name": "ipython",
    "version": 3
   },
   "file_extension": ".py",
   "mimetype": "text/x-python",
   "name": "python",
   "nbconvert_exporter": "python",
   "pygments_lexer": "ipython3",
   "version": "3.8.5"
  }
 },
 "nbformat": 4,
 "nbformat_minor": 4
}
