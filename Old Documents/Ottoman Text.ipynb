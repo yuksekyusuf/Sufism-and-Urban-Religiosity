{
 "cells": [
  {
   "cell_type": "code",
   "execution_count": 3,
   "metadata": {},
   "outputs": [],
   "source": [
    "from pathlib import Path\n",
    "import pandas as pd\n",
    "import numpy as py"
   ]
  },
  {
   "cell_type": "code",
   "execution_count": 4,
   "metadata": {},
   "outputs": [],
   "source": [
    "data = pd.read_csv('backup.csv')"
   ]
  },
  {
   "cell_type": "code",
   "execution_count": 6,
   "metadata": {},
   "outputs": [
    {
     "name": "stdout",
     "output_type": "stream",
     "text": [
      "120    ['Maldepe karyesinde sâkin Mustafa Beşe b. Sal...\n",
      "121    ['Anadolu cânibinde medîne-i Üsküdar’dan Adana...\n",
      "122    ['Keban ve Ergani ma‘denlerine sermâye olmak ü...\n",
      "123    ['İftihârü’l-emâcid ve’l-ekârim câmi‘u’l-mehâm...\n",
      "Name: case_text, dtype: object\n"
     ]
    }
   ],
   "source": [
    "texts = data['case_text']\n",
    "print(texts[120:124])"
   ]
  },
  {
   "cell_type": "code",
   "execution_count": 67,
   "metadata": {},
   "outputs": [],
   "source": [
    "sample_text = []\n",
    "\n",
    "for i, t in texts[:100].iteritems():\n",
    "    sample_text.append(t)\n",
    "    \n",
    "total = \"\"\n",
    "for text in sample_text:\n",
    "    total += text\n",
    "total = total.replace('[', '').replace(']', '').replace(\"'\", \"\").replace(',', '')\n",
    "\n",
    "\n",
    "with open(\"sample.txt\", \"w\") as output:\n",
    "    output.write(str(total))"
   ]
  },
  {
   "cell_type": "code",
   "execution_count": null,
   "metadata": {},
   "outputs": [],
   "source": []
  },
  {
   "cell_type": "code",
   "execution_count": null,
   "metadata": {},
   "outputs": [],
   "source": []
  }
 ],
 "metadata": {
  "kernelspec": {
   "display_name": "Python 3",
   "language": "python",
   "name": "python3"
  },
  "language_info": {
   "codemirror_mode": {
    "name": "ipython",
    "version": 3
   },
   "file_extension": ".py",
   "mimetype": "text/x-python",
   "name": "python",
   "nbconvert_exporter": "python",
   "pygments_lexer": "ipython3",
   "version": "3.8.5"
  }
 },
 "nbformat": 4,
 "nbformat_minor": 4
}
