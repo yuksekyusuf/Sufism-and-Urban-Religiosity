{
 "cells": [
  {
   "cell_type": "code",
   "execution_count": 1,
   "id": "74a5985a",
   "metadata": {},
   "outputs": [],
   "source": [
    "import pandas as pd"
   ]
  },
  {
   "cell_type": "code",
   "execution_count": 3,
   "id": "a5fad97c",
   "metadata": {},
   "outputs": [
    {
     "name": "stdout",
     "output_type": "stream",
     "text": [
      "   Unnamed: 0 court_title sicil_number                   sicil_date  \\\n",
      "0           0      Adalar            1  H. 1178-1184 / M. 1764-1771   \n",
      "\n",
      "      date_hijri    date_miladi  \\\n",
      "0  H. 1178-1184    M. 1764-1771   \n",
      "\n",
      "                                           case_text  \\\n",
      "0  ['[İç Kapak]', 'Mûcebince amel oluna deyü buyr...   \n",
      "\n",
      "                   case_summary case_number  id  \n",
      "0  117[8] ilâ 1184 Adalar Hücec  Hüküm no:    1  \n"
     ]
    }
   ],
   "source": [
    "file_path = 'backup.csv'\n",
    "df = pd.read_csv(file_path)\n"
   ]
  },
  {
   "cell_type": "code",
   "execution_count": 6,
   "id": "fa11b996",
   "metadata": {},
   "outputs": [
    {
     "name": "stdout",
     "output_type": "stream",
     "text": [
      "Unnamed: 0: 2\n",
      "court_title: Adalar\n",
      "sicil_number: 1\n",
      "sicil_date: H. 1178-1184 / M. 1764-1771\n",
      "date_hijri: H. 1178-1184 \n",
      "date_miladi:  M. 1764-1771\n",
      "case_text: ['Bundan akdem hâlik olan Esteban v. Kirkor v. Yanos zimmînin verâseti zeyl-i defterde olan zimmiyâna inhisârı ba‘de’t-tahakkukı’ş-şer‘î hâlik-i mersûmun ez-defter-i hâric zuhûr eden eşyâ ve nukūdu defteridir ki alâ-kadri hısasihim tevzî‘ ve taksîm olundu.', 'Hurrire fi’l-yevmi’s-sâlis aşer min-şehri Cumâdelûlâ li-sene seb‘a ve semânîn ve mi’ete ve elf.', 'Beygir 6 aded Beheri 200 guruş Meblağ 144,012 akçe (yalnız bin iki yüz guruşdur) Der-zimmet-i vasî-i mesfûr Meblağ 60,000 akçe (Yalnız beş yüz guruşdur)', 'Cem‘an yekûn 204,012 akçe (Yalnız bin yedi yüz kırk guruşluk akçe ve dört para)', 'Li’t-taksîm beyne’l-verese Hissetü’z-zevci’l-mesfûr Meblağ 22,668 Hissetü’l-ebi’l-mesfûr Meblağ 30,224 Hissetü’l-ümmi’l-mesfûr Meblağ 30,224 Hissetü’l-binti’l-merkūm Meblağ 30,224 Hissetü’l-binti’l-uhrâ Meblağ 30,224 Hissetü’l-binti’l-merkūm Meblağ 30,224 Hissetü’l-binti’l-mersûm Meblağ 30,224']\n",
      "case_summary: Ölen Esteban’ın terekesinin varislerine taksim olunduğu\n",
      "case_number: Hüküm no: 2\n",
      "id: 3\n"
     ]
    }
   ],
   "source": [
    "first_row = df.iloc[2]\n",
    "for column, value in first_row.items():\n",
    "    print(f\"{column}: {value}\")"
   ]
  },
  {
   "cell_type": "code",
   "execution_count": 7,
   "id": "542bd144",
   "metadata": {},
   "outputs": [],
   "source": [
    "def word_count(text):\n",
    "    return len(str(text).split())"
   ]
  },
  {
   "cell_type": "code",
   "execution_count": 8,
   "id": "51167ed3",
   "metadata": {},
   "outputs": [],
   "source": [
    "total_word_count = df['case_text'].apply(word_count).sum()"
   ]
  },
  {
   "cell_type": "code",
   "execution_count": 9,
   "id": "71f913b1",
   "metadata": {},
   "outputs": [
    {
     "name": "stdout",
     "output_type": "stream",
     "text": [
      "Total word count for 'case_text': 11443592\n"
     ]
    }
   ],
   "source": [
    "print(f\"Total word count for 'case_text': {total_word_count}\")"
   ]
  },
  {
   "cell_type": "code",
   "execution_count": 10,
   "id": "fa832c08",
   "metadata": {},
   "outputs": [
    {
     "data": {
      "text/plain": [
       "14876669.6"
      ]
     },
     "execution_count": 10,
     "metadata": {},
     "output_type": "execute_result"
    }
   ],
   "source": [
    "total_word_count = 11443592\n",
    "average_tokens_per_word = 1.3\n",
    "\n",
    "# Approximate total token count\n",
    "approximate_token_count = total_word_count * average_tokens_per_word\n",
    "\n",
    "approximate_token_count"
   ]
  },
  {
   "cell_type": "code",
   "execution_count": null,
   "id": "ded4dd51",
   "metadata": {},
   "outputs": [],
   "source": [
    "#I want you to write me the API call for this NER task for my documents. As I mentioned earlier, I want you to extract named entities in the case_text column in my dataset. I want to receive the api result in a json format that includes unique id for each individual "
   ]
  },
  {
   "cell_type": "code",
   "execution_count": 11,
   "id": "9695f02c",
   "metadata": {},
   "outputs": [],
   "source": [
    "df_copy = df.copy()"
   ]
  },
  {
   "cell_type": "code",
   "execution_count": 12,
   "id": "a884b865",
   "metadata": {},
   "outputs": [],
   "source": [
    "# Create a unique ID by concatenating 'court_title', 'sicil_number', and 'case_number' with a separator\n",
    "df['case_id'] = df['court_title'] + '_' + df['sicil_number'].astype(str) + '_' + df['case_number']"
   ]
  },
  {
   "cell_type": "code",
   "execution_count": 13,
   "id": "5e3525cf",
   "metadata": {},
   "outputs": [
    {
     "data": {
      "text/html": [
       "<div>\n",
       "<style scoped>\n",
       "    .dataframe tbody tr th:only-of-type {\n",
       "        vertical-align: middle;\n",
       "    }\n",
       "\n",
       "    .dataframe tbody tr th {\n",
       "        vertical-align: top;\n",
       "    }\n",
       "\n",
       "    .dataframe thead th {\n",
       "        text-align: right;\n",
       "    }\n",
       "</style>\n",
       "<table border=\"1\" class=\"dataframe\">\n",
       "  <thead>\n",
       "    <tr style=\"text-align: right;\">\n",
       "      <th></th>\n",
       "      <th>Unnamed: 0</th>\n",
       "      <th>court_title</th>\n",
       "      <th>sicil_number</th>\n",
       "      <th>sicil_date</th>\n",
       "      <th>date_hijri</th>\n",
       "      <th>date_miladi</th>\n",
       "      <th>case_text</th>\n",
       "      <th>case_summary</th>\n",
       "      <th>case_number</th>\n",
       "      <th>id</th>\n",
       "      <th>case_id</th>\n",
       "    </tr>\n",
       "  </thead>\n",
       "  <tbody>\n",
       "    <tr>\n",
       "      <th>0</th>\n",
       "      <td>0</td>\n",
       "      <td>Adalar</td>\n",
       "      <td>1</td>\n",
       "      <td>H. 1178-1184 / M. 1764-1771</td>\n",
       "      <td>H. 1178-1184</td>\n",
       "      <td>M. 1764-1771</td>\n",
       "      <td>['[İç Kapak]', 'Mûcebince amel oluna deyü buyr...</td>\n",
       "      <td>117[8] ilâ 1184 Adalar Hücec</td>\n",
       "      <td>Hüküm no:</td>\n",
       "      <td>1</td>\n",
       "      <td>Adalar_1_Hüküm no:</td>\n",
       "    </tr>\n",
       "    <tr>\n",
       "      <th>1</th>\n",
       "      <td>1</td>\n",
       "      <td>Adalar</td>\n",
       "      <td>1</td>\n",
       "      <td>H. 1178-1184 / M. 1764-1771</td>\n",
       "      <td>H. 1178-1184</td>\n",
       "      <td>M. 1764-1771</td>\n",
       "      <td>['Kasab Veli Beşe kanadârı Mumço? nâm zimmîye ...</td>\n",
       "      <td>Kasap Veli’nin Mumço’ya kefil olduğu</td>\n",
       "      <td>Hüküm no: 1</td>\n",
       "      <td>2</td>\n",
       "      <td>Adalar_1_Hüküm no: 1</td>\n",
       "    </tr>\n",
       "    <tr>\n",
       "      <th>2</th>\n",
       "      <td>2</td>\n",
       "      <td>Adalar</td>\n",
       "      <td>1</td>\n",
       "      <td>H. 1178-1184 / M. 1764-1771</td>\n",
       "      <td>H. 1178-1184</td>\n",
       "      <td>M. 1764-1771</td>\n",
       "      <td>['Bundan akdem hâlik olan Esteban v. Kirkor v....</td>\n",
       "      <td>Ölen Esteban’ın terekesinin varislerine taksim...</td>\n",
       "      <td>Hüküm no: 2</td>\n",
       "      <td>3</td>\n",
       "      <td>Adalar_1_Hüküm no: 2</td>\n",
       "    </tr>\n",
       "    <tr>\n",
       "      <th>3</th>\n",
       "      <td>3</td>\n",
       "      <td>Adalar</td>\n",
       "      <td>1</td>\n",
       "      <td>H. 1178-1184 / M. 1764-1771</td>\n",
       "      <td>H. 1178-1184</td>\n",
       "      <td>M. 1764-1771</td>\n",
       "      <td>['Culûs-ı Sultân Mustafa Han b. es-Sultân Abdü...</td>\n",
       "      <td>Sultan Mustafa Han’ın tahta çıkış tarihinin no...</td>\n",
       "      <td>Hüküm no: 3</td>\n",
       "      <td>4</td>\n",
       "      <td>Adalar_1_Hüküm no: 3</td>\n",
       "    </tr>\n",
       "    <tr>\n",
       "      <th>4</th>\n",
       "      <td>4</td>\n",
       "      <td>Adalar</td>\n",
       "      <td>1</td>\n",
       "      <td>H. 1178-1184 / M. 1764-1771</td>\n",
       "      <td>H. 1178-1184</td>\n",
       "      <td>M. 1764-1771</td>\n",
       "      <td>['Devletlü inâyetlü merhametlü efendim sultânı...</td>\n",
       "      <td>Yarım kalan bir arzuhal kaydı</td>\n",
       "      <td>Hüküm no: 4</td>\n",
       "      <td>5</td>\n",
       "      <td>Adalar_1_Hüküm no: 4</td>\n",
       "    </tr>\n",
       "  </tbody>\n",
       "</table>\n",
       "</div>"
      ],
      "text/plain": [
       "   Unnamed: 0 court_title sicil_number                   sicil_date  \\\n",
       "0           0      Adalar            1  H. 1178-1184 / M. 1764-1771   \n",
       "1           1      Adalar            1  H. 1178-1184 / M. 1764-1771   \n",
       "2           2      Adalar            1  H. 1178-1184 / M. 1764-1771   \n",
       "3           3      Adalar            1  H. 1178-1184 / M. 1764-1771   \n",
       "4           4      Adalar            1  H. 1178-1184 / M. 1764-1771   \n",
       "\n",
       "      date_hijri    date_miladi  \\\n",
       "0  H. 1178-1184    M. 1764-1771   \n",
       "1  H. 1178-1184    M. 1764-1771   \n",
       "2  H. 1178-1184    M. 1764-1771   \n",
       "3  H. 1178-1184    M. 1764-1771   \n",
       "4  H. 1178-1184    M. 1764-1771   \n",
       "\n",
       "                                           case_text  \\\n",
       "0  ['[İç Kapak]', 'Mûcebince amel oluna deyü buyr...   \n",
       "1  ['Kasab Veli Beşe kanadârı Mumço? nâm zimmîye ...   \n",
       "2  ['Bundan akdem hâlik olan Esteban v. Kirkor v....   \n",
       "3  ['Culûs-ı Sultân Mustafa Han b. es-Sultân Abdü...   \n",
       "4  ['Devletlü inâyetlü merhametlü efendim sultânı...   \n",
       "\n",
       "                                        case_summary  case_number  id  \\\n",
       "0                       117[8] ilâ 1184 Adalar Hücec   Hüküm no:    1   \n",
       "1               Kasap Veli’nin Mumço’ya kefil olduğu  Hüküm no: 1   2   \n",
       "2  Ölen Esteban’ın terekesinin varislerine taksim...  Hüküm no: 2   3   \n",
       "3  Sultan Mustafa Han’ın tahta çıkış tarihinin no...  Hüküm no: 3   4   \n",
       "4                      Yarım kalan bir arzuhal kaydı  Hüküm no: 4   5   \n",
       "\n",
       "                case_id  \n",
       "0   Adalar_1_Hüküm no:   \n",
       "1  Adalar_1_Hüküm no: 1  \n",
       "2  Adalar_1_Hüküm no: 2  \n",
       "3  Adalar_1_Hüküm no: 3  \n",
       "4  Adalar_1_Hüküm no: 4  "
      ]
     },
     "execution_count": 13,
     "metadata": {},
     "output_type": "execute_result"
    }
   ],
   "source": [
    "df.head()"
   ]
  },
  {
   "cell_type": "code",
   "execution_count": 14,
   "id": "ba6b325a",
   "metadata": {},
   "outputs": [],
   "source": [
    "df_copy['unique_id'] = range(1, len(df_copy) + 1)"
   ]
  },
  {
   "cell_type": "code",
   "execution_count": 17,
   "id": "7dfe63a2",
   "metadata": {},
   "outputs": [
    {
     "data": {
      "text/html": [
       "<div>\n",
       "<style scoped>\n",
       "    .dataframe tbody tr th:only-of-type {\n",
       "        vertical-align: middle;\n",
       "    }\n",
       "\n",
       "    .dataframe tbody tr th {\n",
       "        vertical-align: top;\n",
       "    }\n",
       "\n",
       "    .dataframe thead th {\n",
       "        text-align: right;\n",
       "    }\n",
       "</style>\n",
       "<table border=\"1\" class=\"dataframe\">\n",
       "  <thead>\n",
       "    <tr style=\"text-align: right;\">\n",
       "      <th></th>\n",
       "      <th>Unnamed: 0</th>\n",
       "      <th>court_title</th>\n",
       "      <th>sicil_number</th>\n",
       "      <th>sicil_date</th>\n",
       "      <th>date_hijri</th>\n",
       "      <th>date_miladi</th>\n",
       "      <th>case_text</th>\n",
       "      <th>case_summary</th>\n",
       "      <th>case_number</th>\n",
       "      <th>id</th>\n",
       "      <th>unique_id</th>\n",
       "    </tr>\n",
       "  </thead>\n",
       "  <tbody>\n",
       "    <tr>\n",
       "      <th>0</th>\n",
       "      <td>0</td>\n",
       "      <td>Adalar</td>\n",
       "      <td>1</td>\n",
       "      <td>H. 1178-1184 / M. 1764-1771</td>\n",
       "      <td>H. 1178-1184</td>\n",
       "      <td>M. 1764-1771</td>\n",
       "      <td>['[İç Kapak]', 'Mûcebince amel oluna deyü buyr...</td>\n",
       "      <td>117[8] ilâ 1184 Adalar Hücec</td>\n",
       "      <td>Hüküm no:</td>\n",
       "      <td>1</td>\n",
       "      <td>1</td>\n",
       "    </tr>\n",
       "    <tr>\n",
       "      <th>1</th>\n",
       "      <td>1</td>\n",
       "      <td>Adalar</td>\n",
       "      <td>1</td>\n",
       "      <td>H. 1178-1184 / M. 1764-1771</td>\n",
       "      <td>H. 1178-1184</td>\n",
       "      <td>M. 1764-1771</td>\n",
       "      <td>['Kasab Veli Beşe kanadârı Mumço? nâm zimmîye ...</td>\n",
       "      <td>Kasap Veli’nin Mumço’ya kefil olduğu</td>\n",
       "      <td>Hüküm no: 1</td>\n",
       "      <td>2</td>\n",
       "      <td>2</td>\n",
       "    </tr>\n",
       "    <tr>\n",
       "      <th>2</th>\n",
       "      <td>2</td>\n",
       "      <td>Adalar</td>\n",
       "      <td>1</td>\n",
       "      <td>H. 1178-1184 / M. 1764-1771</td>\n",
       "      <td>H. 1178-1184</td>\n",
       "      <td>M. 1764-1771</td>\n",
       "      <td>['Bundan akdem hâlik olan Esteban v. Kirkor v....</td>\n",
       "      <td>Ölen Esteban’ın terekesinin varislerine taksim...</td>\n",
       "      <td>Hüküm no: 2</td>\n",
       "      <td>3</td>\n",
       "      <td>3</td>\n",
       "    </tr>\n",
       "    <tr>\n",
       "      <th>3</th>\n",
       "      <td>3</td>\n",
       "      <td>Adalar</td>\n",
       "      <td>1</td>\n",
       "      <td>H. 1178-1184 / M. 1764-1771</td>\n",
       "      <td>H. 1178-1184</td>\n",
       "      <td>M. 1764-1771</td>\n",
       "      <td>['Culûs-ı Sultân Mustafa Han b. es-Sultân Abdü...</td>\n",
       "      <td>Sultan Mustafa Han’ın tahta çıkış tarihinin no...</td>\n",
       "      <td>Hüküm no: 3</td>\n",
       "      <td>4</td>\n",
       "      <td>4</td>\n",
       "    </tr>\n",
       "    <tr>\n",
       "      <th>4</th>\n",
       "      <td>4</td>\n",
       "      <td>Adalar</td>\n",
       "      <td>1</td>\n",
       "      <td>H. 1178-1184 / M. 1764-1771</td>\n",
       "      <td>H. 1178-1184</td>\n",
       "      <td>M. 1764-1771</td>\n",
       "      <td>['Devletlü inâyetlü merhametlü efendim sultânı...</td>\n",
       "      <td>Yarım kalan bir arzuhal kaydı</td>\n",
       "      <td>Hüküm no: 4</td>\n",
       "      <td>5</td>\n",
       "      <td>5</td>\n",
       "    </tr>\n",
       "  </tbody>\n",
       "</table>\n",
       "</div>"
      ],
      "text/plain": [
       "   Unnamed: 0 court_title sicil_number                   sicil_date  \\\n",
       "0           0      Adalar            1  H. 1178-1184 / M. 1764-1771   \n",
       "1           1      Adalar            1  H. 1178-1184 / M. 1764-1771   \n",
       "2           2      Adalar            1  H. 1178-1184 / M. 1764-1771   \n",
       "3           3      Adalar            1  H. 1178-1184 / M. 1764-1771   \n",
       "4           4      Adalar            1  H. 1178-1184 / M. 1764-1771   \n",
       "\n",
       "      date_hijri    date_miladi  \\\n",
       "0  H. 1178-1184    M. 1764-1771   \n",
       "1  H. 1178-1184    M. 1764-1771   \n",
       "2  H. 1178-1184    M. 1764-1771   \n",
       "3  H. 1178-1184    M. 1764-1771   \n",
       "4  H. 1178-1184    M. 1764-1771   \n",
       "\n",
       "                                           case_text  \\\n",
       "0  ['[İç Kapak]', 'Mûcebince amel oluna deyü buyr...   \n",
       "1  ['Kasab Veli Beşe kanadârı Mumço? nâm zimmîye ...   \n",
       "2  ['Bundan akdem hâlik olan Esteban v. Kirkor v....   \n",
       "3  ['Culûs-ı Sultân Mustafa Han b. es-Sultân Abdü...   \n",
       "4  ['Devletlü inâyetlü merhametlü efendim sultânı...   \n",
       "\n",
       "                                        case_summary  case_number  id  \\\n",
       "0                       117[8] ilâ 1184 Adalar Hücec   Hüküm no:    1   \n",
       "1               Kasap Veli’nin Mumço’ya kefil olduğu  Hüküm no: 1   2   \n",
       "2  Ölen Esteban’ın terekesinin varislerine taksim...  Hüküm no: 2   3   \n",
       "3  Sultan Mustafa Han’ın tahta çıkış tarihinin no...  Hüküm no: 3   4   \n",
       "4                      Yarım kalan bir arzuhal kaydı  Hüküm no: 4   5   \n",
       "\n",
       "   unique_id  \n",
       "0          1  \n",
       "1          2  \n",
       "2          3  \n",
       "3          4  \n",
       "4          5  "
      ]
     },
     "execution_count": 17,
     "metadata": {},
     "output_type": "execute_result"
    }
   ],
   "source": [
    "df_copy.head()"
   ]
  },
  {
   "cell_type": "code",
   "execution_count": null,
   "id": "2562e391",
   "metadata": {},
   "outputs": [],
   "source": []
  }
 ],
 "metadata": {
  "kernelspec": {
   "display_name": "Python 3 (ipykernel)",
   "language": "python",
   "name": "python3"
  },
  "language_info": {
   "codemirror_mode": {
    "name": "ipython",
    "version": 3
   },
   "file_extension": ".py",
   "mimetype": "text/x-python",
   "name": "python",
   "nbconvert_exporter": "python",
   "pygments_lexer": "ipython3",
   "version": "3.11.5"
  }
 },
 "nbformat": 4,
 "nbformat_minor": 5
}
